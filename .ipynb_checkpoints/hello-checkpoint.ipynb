{
 "cells": [
  {
   "cell_type": "code",
   "execution_count": 1,
   "id": "29ec4ebd",
   "metadata": {},
   "outputs": [],
   "source": [
    "import numpy as np\n",
    "import matplotlib.pyplot as plt"
   ]
  },
  {
   "cell_type": "code",
   "execution_count": 2,
   "id": "40775351",
   "metadata": {},
   "outputs": [],
   "source": [
    "from scipy import ndimage\n",
    "# from matplotlib.pyplot as plt\n",
    "\n",
    "def mygradient(image):\n",
    "    x_kernel = [[-1, 1]]\n",
    "    y_kernel = [[-1], [1]]\n",
    "    x_der = ndimage.correlate(image, x_kernel, mode = \"nearest\")\n",
    "    y_der = ndimage.correlate(image, y_kernel, mode = \"nearest\")\n",
    "    der_sum = (x_der)*(x_der) + (y_der)*(y_der)\n",
    "    mag = np.sqrt(der_sum)\n",
    "    e = 10 ** -7\n",
    "    ori = np.arctan(y_der/(x_der + e))\n",
    "    return (mag, ori)"
   ]
  },
  {
   "cell_type": "code",
   "execution_count": 3,
   "id": "911d70fa",
   "metadata": {},
   "outputs": [
    {
     "name": "stdout",
     "output_type": "stream",
     "text": [
      "(620, 826)\n",
      "(620, 826)\n",
      "(620, 826)\n"
     ]
    }
   ],
   "source": [
    "I = plt.imread('drake.jpg')\n",
    "I = np.mean(I, axis = 2)\n",
    "magnitude, orientation = mygradient(I)\n",
    "print(I.shape)\n",
    "print(magnitude.shape)\n",
    "print(orientation.shape)\n",
    "\n",
    "plt.imshow()"
   ]
  },
  {
   "cell_type": "code",
   "execution_count": null,
   "id": "70f7af12",
   "metadata": {},
   "outputs": [],
   "source": []
  }
 ],
 "metadata": {
  "kernelspec": {
   "display_name": "Python 3",
   "language": "python",
   "name": "python3"
  },
  "language_info": {
   "codemirror_mode": {
    "name": "ipython",
    "version": 3
   },
   "file_extension": ".py",
   "mimetype": "text/x-python",
   "name": "python",
   "nbconvert_exporter": "python",
   "pygments_lexer": "ipython3",
   "version": "3.7.6"
  }
 },
 "nbformat": 4,
 "nbformat_minor": 5
}
